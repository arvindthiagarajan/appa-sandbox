{
 "cells": [
  {
   "cell_type": "code",
   "execution_count": 1,
   "metadata": {},
   "outputs": [],
   "source": [
    "import torch\n",
    "import matplotlib.pyplot as plt"
   ]
  },
  {
   "cell_type": "code",
   "execution_count": 2,
   "metadata": {},
   "outputs": [
    {
     "data": {
      "text/plain": [
       "tensor([5, 4, 6])"
      ]
     },
     "execution_count": 2,
     "metadata": {},
     "output_type": "execute_result"
    }
   ],
   "source": [
    "x = torch.tensor([5,4,6])\n",
    "x"
   ]
  },
  {
   "cell_type": "code",
   "execution_count": 3,
   "metadata": {},
   "outputs": [
    {
     "data": {
      "text/plain": [
       "tensor([25, 16, 36])"
      ]
     },
     "execution_count": 3,
     "metadata": {},
     "output_type": "execute_result"
    }
   ],
   "source": [
    "x * x"
   ]
  },
  {
   "cell_type": "code",
   "execution_count": 4,
   "metadata": {},
   "outputs": [
    {
     "data": {
      "text/plain": [
       "tensor([0.6019, 0.1697, 0.0136, 0.7087, 0.1740])"
      ]
     },
     "execution_count": 4,
     "metadata": {},
     "output_type": "execute_result"
    }
   ],
   "source": [
    "M = torch.rand((5))\n",
    "#(x, y) ---> x is vector of size 5, y is vector of a single value\n",
    "def f(x):\n",
    "    return torch.dot(M, x)\n",
    "\n",
    "# Create data points\n",
    "data = []\n",
    "for i in range(100):\n",
    "    x = torch.rand(5)\n",
    "    data.append((x, f(x)))\n",
    "    \n",
    "# Display M\n",
    "M"
   ]
  },
  {
   "cell_type": "code",
   "execution_count": 5,
   "metadata": {},
   "outputs": [
    {
     "data": {
      "text/plain": [
       "Parameter containing:\n",
       "tensor([0.3209, 0.0150, 0.8850, 0.6635, 0.3823], requires_grad=True)"
      ]
     },
     "execution_count": 5,
     "metadata": {},
     "output_type": "execute_result"
    }
   ],
   "source": [
    "M_guess = torch.nn.Parameter(torch.rand(5), requires_grad=True)\n",
    "M_guess"
   ]
  },
  {
   "cell_type": "code",
   "execution_count": 6,
   "metadata": {},
   "outputs": [
    {
     "data": {
      "image/png": "[encoded data removed]",
      "text/plain": [
       "<Figure size 432x288 with 1 Axes>"
      ]
     },
     "metadata": {
      "needs_background": "light"
     },
     "output_type": "display_data"
    }
   ],
   "source": [
    "lr = 0.001\n",
    "time_series = []\n",
    "for epoch in range(500):\n",
    "    errors = []\n",
    "    for inp, actual_val in data:\n",
    "        pred_val = torch.dot(M_guess, inp)\n",
    "        error = (pred_val - actual_val)**2\n",
    "        errors.append(error.item())\n",
    "        error.backward()\n",
    "\n",
    "        M_guess.data = M_guess.data - lr * M_guess.grad\n",
    "        M_guess.grad.zero_()\n",
    "    time_series.append(sum(errors)/len(errors))\n",
    "plt.plot(time_series)\n",
    "plt.xscale(\"log\")"
   ]
  },
  {
   "cell_type": "code",
   "execution_count": 7,
   "metadata": {
    "inputHidden": false,
    "outputHidden": false
   },
   "outputs": [],
   "source": [
    "Q = torch.rand(10, 5)\n",
    "def g(x):\n",
    "    # x is a 5 length tensor\n",
    "    return torch.linalg.norm(torch.matmul(Q, x))**2 #  ||Q * x||^2\n",
    "\n",
    "# Create data points\n",
    "data = []\n",
    "for i in range(100):\n",
    "    x = torch.rand(5)\n",
    "    data.append((x, g(x) + 0.05 * torch.randn(1))) # New function with noise"
   ]
  },
  {
   "cell_type": "code",
   "execution_count": 8,
   "metadata": {
    "inputHidden": false,
    "outputHidden": false
   },
   "outputs": [],
   "source": [
    "class Predictor(torch.nn.Module):\n",
    "    \n",
    "    def __init__(self):\n",
    "        super().__init__()\n",
    "        self.layer1 = torch.nn.Linear(5, 1)\n",
    "        self.layer2 = torch.nn.Linear(1, 1)\n",
    "    def forward(self, x):\n",
    "        y = self.layer1(x)\n",
    "        y = torch.relu(y)\n",
    "        return self.layer2(y)"
   ]
  },
  {
   "cell_type": "code",
   "execution_count": 9,
   "metadata": {
    "inputHidden": false,
    "outputHidden": false
   },
   "outputs": [
    {
     "data": {
      "text/plain": [
       "[<matplotlib.lines.Line2D at 0x1302eb550>]"
      ]
     },
     "execution_count": 9,
     "metadata": {},
     "output_type": "execute_result"
    },
    {
     "data": {
      "image/png": "[encoded data removed]",
      "text/plain": [
       "<Figure size 432x288 with 1 Axes>"
      ]
     },
     "metadata": {
      "needs_background": "light"
     },
     "output_type": "display_data"
    }
   ],
   "source": [
    "# Manual optimization\n",
    "\n",
    "lr = 0.001\n",
    "time_series = []\n",
    "guess = Predictor()\n",
    "for epoch in range(500):\n",
    "    errors = []\n",
    "    for inp, actual_val in data:\n",
    "        pred_val = guess(inp)\n",
    "        error = (pred_val - actual_val)**2\n",
    "        errors.append(error.item())\n",
    "        error.backward()\n",
    "        for param in guess.parameters():\n",
    "            param.data = param.data - lr * param.grad\n",
    "            param.grad.zero_()\n",
    "    time_series.append(sum(errors)/len(errors))\n",
    "plt.plot(time_series)"
   ]
  },
  {
   "cell_type": "code",
   "execution_count": 11,
   "metadata": {
    "inputHidden": false,
    "outputHidden": false
   },
   "outputs": [
    {
     "data": {
      "text/plain": [
       "[<matplotlib.lines.Line2D at 0x1301c0e50>]"
      ]
     },
     "execution_count": 11,
     "metadata": {},
     "output_type": "execute_result"
    },
    {
     "data": {
      "image/png": "[encoded data removed]",
      "text/plain": [
       "<Figure size 432x288 with 1 Axes>"
      ]
     },
     "metadata": {
      "needs_background": "light"
     },
     "output_type": "display_data"
    }
   ],
   "source": [
    "# With optimizer\n",
    "\n",
    "lr = 0.001\n",
    "time_series = []\n",
    "guess = Predictor()\n",
    "opt = torch.optim.SGD(guess.parameters(), lr=lr)\n",
    "for epoch in range(500):\n",
    "    errors = []\n",
    "    for inp, actual_val in data:\n",
    "        opt.zero_grad()\n",
    "        pred_val = guess(inp)\n",
    "        error = (pred_val - actual_val)**2\n",
    "        errors.append(error.item())\n",
    "        error.backward()\n",
    "        opt.step()\n",
    "        \n",
    "    time_series.append(sum(errors)/len(errors))\n",
    "plt.plot(time_series)"
   ]
  },
  {
   "cell_type": "code",
   "execution_count": null,
   "metadata": {},
   "outputs": [],
   "source": []
  }
 ],
 "metadata": {
  "kernel_info": {
   "name": "test"
  },
  "kernelspec": {
   "display_name": "test",
   "language": "python",
   "name": "test"
  },
  "language_info": {
   "codemirror_mode": {
    "name": "ipython",
    "version": 3
   },
   "file_extension": ".py",
   "mimetype": "text/x-python",
   "name": "python",
   "nbconvert_exporter": "python",
   "pygments_lexer": "ipython3",
   "version": "3.7.7"
  },
  "nteract": {
   "version": "0.12.3"
  }
 },
 "nbformat": 4,
 "nbformat_minor": 4
}
