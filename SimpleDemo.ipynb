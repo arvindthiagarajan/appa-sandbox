{
  "cells": [
    {
      "cell_type": "code",
      "source": [
        "import torch\n",
        "import matplotlib.pyplot as plt"
      ],
      "outputs": [],
      "execution_count": 1,
      "metadata": {}
    },
    {
      "cell_type": "code",
      "source": [
        "x = torch.tensor([5,4,6])\n",
        "x"
      ],
      "outputs": [
        {
          "output_type": "execute_result",
          "execution_count": 2,
          "data": {
            "text/plain": [
              "tensor([5, 4, 6])"
            ]
          },
          "metadata": {}
        }
      ],
      "execution_count": 2,
      "metadata": {}
    },
    {
      "cell_type": "code",
      "source": [
        "x * x"
      ],
      "outputs": [
        {
          "output_type": "execute_result",
          "execution_count": 3,
          "data": {
            "text/plain": [
              "tensor([25, 16, 36])"
            ]
          },
          "metadata": {}
        }
      ],
      "execution_count": 3,
      "metadata": {}
    },
    {
      "cell_type": "code",
      "source": [
        "M = torch.rand((5))\n",
        "#(x, y) ---> x is vector of size 5, y is vector of a single value\n",
        "def f(x):\n",
        "    return torch.dot(M, x)\n",
        "\n",
        "# Create data points\n",
        "data = []\n",
        "for i in range(100):\n",
        "    x = torch.rand(5)\n",
        "    data.append((x, f(x)))\n",
        "    \n",
        "# Display M\n",
        "M"
      ],
      "outputs": [
        {
          "output_type": "execute_result",
          "execution_count": 4,
          "data": {
            "text/plain": [
              "tensor([0.5041, 0.1773, 0.5339, 0.6243, 0.0932])"
            ]
          },
          "metadata": {}
        }
      ],
      "execution_count": 4,
      "metadata": {}
    },
    {
      "cell_type": "code",
      "source": [
        "M_guess = torch.nn.Parameter(torch.rand(5), requires_grad=True)\n",
        "M_guess"
      ],
      "outputs": [
        {
          "output_type": "execute_result",
          "execution_count": 5,
          "data": {
            "text/plain": [
              "Parameter containing:\n",
              "tensor([0.0597, 0.9499, 0.5980, 0.8026, 0.9379], requires_grad=True)"
            ]
          },
          "metadata": {}
        }
      ],
      "execution_count": 5,
      "metadata": {}
    },
    {
      "cell_type": "code",
      "source": [
        "lr = 0.001\n",
        "time_series = []\n",
        "for epoch in range(500):\n",
        "    errors = []\n",
        "    for inp, actual_val in data:\n",
        "        pred_val = torch.dot(M_guess, inp)\n",
        "        error = (pred_val - actual_val)**2\n",
        "        errors.append(error.item())\n",
        "        error.backward()\n",
        "\n",
        "        M_guess.data = M_guess.data - lr * M_guess.grad\n",
        "        M_guess.grad.zero_()\n",
        "    time_series.append(sum(errors)/len(errors))\n",
        "plt.plot(time_series)"
      ],
      "outputs": [
        {
          "output_type": "execute_result",
          "execution_count": 6,
          "data": {
            "text/plain": [
              "[<matplotlib.lines.Line2D at 0x12e7dca90>]"
            ]
          },
          "metadata": {}
        },
        {
          "output_type": "display_data",
          "data": {
            "text/plain": [
              "<Figure size 432x288 with 1 Axes>"
            ],
            "image/png": "[encoded data removed]"
          },
          "metadata": {
            "needs_background": "light"
          }
        }
      ],
      "execution_count": 6,
      "metadata": {}
    }
  ],
  "metadata": {
    "kernelspec": {
      "name": "test",
      "language": "python",
      "display_name": "test"
    },
    "language_info": {
      "name": "python",
      "version": "3.7.7",
      "mimetype": "text/x-python",
      "codemirror_mode": {
        "name": "ipython",
        "version": 3
      },
      "pygments_lexer": "ipython3",
      "nbconvert_exporter": "python",
      "file_extension": ".py"
    },
    "kernel_info": {
      "name": "test"
    },
    "nteract": {
      "version": "0.12.3"
    }
  },
  "nbformat": 4,
  "nbformat_minor": 4
}